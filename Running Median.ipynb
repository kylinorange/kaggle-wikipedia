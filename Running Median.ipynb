{
 "cells": [
  {
   "cell_type": "code",
   "execution_count": 1,
   "metadata": {
    "collapsed": true
   },
   "outputs": [],
   "source": [
    "import numpy as np\n",
    "import pandas as pd\n",
    "import datetime\n",
    "pd.options.display.max_columns = 999\n",
    "pd.options.display.max_colwidth = 100\n",
    "\n",
    "import matplotlib.pyplot as plt\n",
    "%matplotlib inline\n",
    "\n",
    "import sys, os, gc, types\n",
    "import time\n",
    "from subprocess import check_output"
   ]
  },
  {
   "cell_type": "code",
   "execution_count": 2,
   "metadata": {
    "collapsed": false
   },
   "outputs": [
    {
     "name": "stdout",
     "output_type": "stream",
     "text": [
      "date_df.csv\n",
      "key_1.csv\n",
      "median_49.csv\n",
      "median_weekday.csv\n",
      "median_weekend.csv\n",
      "page_df.csv\n",
      "page_ohe.csv\n",
      "sample_submission_1.csv\n",
      "spider.txt\n",
      "train_1.csv\n",
      "\n"
     ]
    }
   ],
   "source": [
    "root_paths = [\n",
    "    \"/data/kaggle-wikipedia/data2/\",\n",
    "    \"/Users/jiayou/Dropbox/JuanCode/Kaggle/Wikipedia/data2/\",\n",
    "    \"/Users/jiayou/Dropbox/Documents/JuanCode/Kaggle/Wikipedia/data2/\"\n",
    "]\n",
    "root = None\n",
    "for p in root_paths:\n",
    "    if os.path.exists(p):\n",
    "        root = p\n",
    "        break\n",
    "print(check_output([\"ls\", root]).decode(\"utf8\"))"
   ]
  },
  {
   "cell_type": "code",
   "execution_count": 3,
   "metadata": {
    "collapsed": true
   },
   "outputs": [],
   "source": [
    "train = pd.read_csv(root + 'train_2.csv')\n",
    "train.fillna(0, inplace = True)"
   ]
  },
  {
   "cell_type": "code",
   "execution_count": 4,
   "metadata": {
    "collapsed": true
   },
   "outputs": [],
   "source": [
    "down_sample = None\n",
    "if down_sample is not None:\n",
    "    train = train[train.index % down_sample == 0]"
   ]
  },
  {
   "cell_type": "code",
   "execution_count": 5,
   "metadata": {
    "collapsed": true
   },
   "outputs": [],
   "source": [
    "class Heap:\n",
    "    def __init__(self, isMinHeap):\n",
    "        self.isMinHeap = isMinHeap\n",
    "        self.data = []\n",
    "        self.location = {}\n",
    "\n",
    "    def isInOrder(self, a, b):\n",
    "        if self.isMinHeap:\n",
    "            return a <= b\n",
    "        else:\n",
    "            return a >= b\n",
    "\n",
    "    def add(self, id, value):\n",
    "        self.data.append((id, value))\n",
    "        self.location[id] = self.getSize() - 1\n",
    "        currentNode = self.data[-1]\n",
    "        self.siftUp(currentNode)\n",
    "\n",
    "    def remove(self, id):\n",
    "        last = self.data[-1]\n",
    "        if last[0] == id:\n",
    "            self.data.pop()\n",
    "            return\n",
    "        i = self.location[id]\n",
    "        del self.location[id]\n",
    "        last = self.data.pop()\n",
    "        self.data[i] = last\n",
    "        self.location[last[0]] = i\n",
    "        self.siftUp(last)\n",
    "        self.siftDown(last)\n",
    "\n",
    "    def getRoot(self):\n",
    "        if len(self.data) == 0:\n",
    "            return (-1, -sys.maxint)\n",
    "        return self.data[0]\n",
    "\n",
    "    def popRoot(self):\n",
    "        if len(self.data) == 0:\n",
    "            return None\n",
    "        first = self.data[0]\n",
    "        del self.location[first[0]]\n",
    "        last = self.data.pop()\n",
    "        if len(self.data) > 0:\n",
    "            self.data[0] = last\n",
    "            self.location[last[0]] = 0\n",
    "            self.siftDown(last)\n",
    "        return first\n",
    "\n",
    "\n",
    "    def getSize(self):\n",
    "        return len(self.data)\n",
    "\n",
    "    def siftUp(self, x):\n",
    "        id = x[0]\n",
    "        value = x[1]\n",
    "        i = self.location[x[0]]\n",
    "        while i >=1 and self.isInOrder(self.data[i][1], self.data[int((i - 1)/2)][1]):\n",
    "            parent_i = int((i - 1) / 2)\n",
    "            temp = self.data[parent_i]\n",
    "            self.data[parent_i] = self.data[i]\n",
    "            self.data[i] = temp\n",
    "            self.location[self.data[i][0]] = i\n",
    "            self.location[self.data[parent_i][0]] = parent_i\n",
    "            i = parent_i\n",
    "\n",
    "    def siftDown(self, x):\n",
    "        id = x[0]\n",
    "        value = x[1]\n",
    "        i = self.location[id]\n",
    "        while (2*i + 1) < self.getSize():\n",
    "            child_i = 2*i + 1\n",
    "            child_i_2 = 2*i + 2\n",
    "            if child_i_2 < self.getSize() and self.isInOrder(self.data[child_i_2][1], self.data[child_i][1]) :\n",
    "                child_i = child_i_2\n",
    "            if self.isInOrder(self.data[child_i][1], self.data[i][1]):\n",
    "                temp = self.data[child_i]\n",
    "                self.data[child_i] = self.data[i]\n",
    "                self.data[i] = temp\n",
    "                self.location[self.data[i][0]] = i\n",
    "                self.location[self.data[child_i][0]] = child_i\n",
    "            i = child_i"
   ]
  },
  {
   "cell_type": "code",
   "execution_count": 6,
   "metadata": {
    "collapsed": true
   },
   "outputs": [],
   "source": [
    "def medianSlidingWindow(nums, k, mask):\n",
    "    \"\"\"\n",
    "        mask - 550 bool array\n",
    "    \"\"\"\n",
    "    if nums is None or len(nums) == 0:\n",
    "        return []\n",
    "    n = len(nums)\n",
    "    result = []\n",
    "    maxHeap = Heap(False) #half smaller numbers \n",
    "    minHeap = Heap(True)\n",
    "\n",
    "    for i in range(0, n):\n",
    "        if maxHeap.getSize() == 0:\n",
    "            result.append(0)\n",
    "        else:\n",
    "            result.append(maxHeap.getRoot()[1])\n",
    "        if mask[i]:\n",
    "            first = i - k\n",
    "            if first >= 0 and first in maxHeap.location:\n",
    "                maxHeap.remove(first)\n",
    "            elif first >= 0 and first in minHeap.location:\n",
    "                minHeap.remove(first)\n",
    "            if maxHeap.getSize() == 0 or nums[i] <= maxHeap.getRoot()[1]:\n",
    "                maxHeap.add(i, nums[i])\n",
    "            else:\n",
    "                minHeap.add(i, nums[i])\n",
    "            if maxHeap.getSize() - minHeap.getSize() >= 2:\n",
    "                top = maxHeap.popRoot()\n",
    "                minHeap.add(top[0], top[1])\n",
    "            elif maxHeap.getSize() - minHeap.getSize() <= -1:\n",
    "                top = minHeap.popRoot()\n",
    "                maxHeap.add(top[0], top[1])\n",
    "    return result"
   ]
  },
  {
   "cell_type": "code",
   "execution_count": 7,
   "metadata": {
    "collapsed": false
   },
   "outputs": [],
   "source": [
    "median_df = train.copy()\n",
    "train_np = train.iloc[:, 1:].values\n",
    "median_np = median_df.iloc[:, 1:].values"
   ]
  },
  {
   "cell_type": "code",
   "execution_count": 8,
   "metadata": {
    "collapsed": true
   },
   "outputs": [],
   "source": []
  },
  {
   "cell_type": "code",
   "execution_count": null,
   "metadata": {
    "collapsed": false
   },
   "outputs": [],
   "source": []
  },
  {
   "cell_type": "code",
   "execution_count": 15,
   "metadata": {
    "collapsed": false,
    "scrolled": true
   },
   "outputs": [],
   "source": [
    "def calculate_median(mask, mask_name, window):\n",
    "    for i in range(len(median_df)):\n",
    "    # for i in range(1000):\n",
    "        nums = train_np[i, :]\n",
    "        cur_median = medianSlidingWindow(nums, window, mask)\n",
    "        median_np[i, :] = cur_median\n",
    "        if i % 1000 == 0:\n",
    "            print('{}: row {} is done'.format(mask_name, i))\n",
    "    median_df.iloc[:, 1:] = median_np\n",
    "    median_df.to_pickle(root+'median_{}.pkl'.format(mask_name))                          "
   ]
  },
  {
   "cell_type": "code",
   "execution_count": null,
   "metadata": {
    "collapsed": false
   },
   "outputs": [],
   "source": []
  },
  {
   "cell_type": "code",
   "execution_count": 12,
   "metadata": {
    "collapsed": false
   },
   "outputs": [],
   "source": [
    "date_df = pd.read_csv(root + 'date_df.csv')\n",
    "\n",
    "params = []\n",
    "params.append(([True]*len(date_df), '49_fix', 49))\n",
    "params.append((date_df.isweekday.values == True, 'weekday_fix', 49))\n",
    "params.append((date_df.isweekday.values == False, 'weekend_fix', 49))\n",
    "params.append(([True]*len(date_df), '28', 28))\n",
    "params.append((date_df.isweekday.values == True, 'weekday_28', 28))\n",
    "params.append((date_df.isweekday.values == False, 'weekend_28', 28))\n",
    "\n",
    "for i in range(7):\n",
    "    params.append((date_df.dayofweek == i, 'dow{}'.format(i), 49))"
   ]
  },
  {
   "cell_type": "code",
   "execution_count": null,
   "metadata": {
    "collapsed": false
   },
   "outputs": [],
   "source": [
    "from multiprocessing import Process\n",
    "\n",
    "jobs = []\n",
    "for i in range(len(params)):\n",
    "    p = Process(target=calculate_median, args=params[i])\n",
    "    p.start()\n",
    "    jobs.append(p)\n",
    "    \n",
    "for p in jobs:\n",
    "    p.join()\n",
    "\n",
    "print(\"\\n\\nAll done.\")"
   ]
  },
  {
   "cell_type": "code",
   "execution_count": null,
   "metadata": {
    "collapsed": false
   },
   "outputs": [],
   "source": []
  },
  {
   "cell_type": "code",
   "execution_count": null,
   "metadata": {
    "collapsed": false
   },
   "outputs": [],
   "source": [
    "median_data = []\n",
    "median_name = [\n",
    "    '49_fix', 'weekday_fix', 'weekend_fix', \n",
    "    'dow0', 'dow1', 'dow2', 'dow3', 'dow4', 'dow5', 'dow6',\n",
    "    '28', 'weekday_28', 'weekend_28'\n",
    "]\n",
    "for mname in median_name:\n",
    "    median_data.append(pd.read_pickle(root + 'median_{}.pkl'.format(mname)))\n",
    "\n",
    "val_days = 62\n",
    "if val_days != 0:\n",
    "    for j in range(len(median_name)):\n",
    "        last_day = median_data[j].iloc[:, -val_days-1].values.reshape((len(median_data[j]),1))\n",
    "        for i in range(-val_days, 0):\n",
    "            median_data[j].iloc[:, i] = last_day\n",
    "\n",
    "median_df = []\n",
    "\n",
    "for i in range(len(median_name)):\n",
    "    cur_median = median_data[i].melt(\n",
    "        id_vars=['Page'], \n",
    "        var_name='date', \n",
    "        value_name='median_{}'.format(median_name[i])\n",
    "    )\n",
    "    if i != 0:\n",
    "        cur_median.drop(['Page', 'date'], axis=1, inplace=True)\n",
    "    median_df.append(cur_median)\n",
    "    \n",
    "pd.concat(median_df, axis=1).to_pickle(\n",
    "    os.path.join(root, 'melted_median_62.pkl'))"
   ]
  },
  {
   "cell_type": "code",
   "execution_count": null,
   "metadata": {
    "collapsed": false
   },
   "outputs": [],
   "source": []
  },
  {
   "cell_type": "code",
   "execution_count": null,
   "metadata": {
    "collapsed": true
   },
   "outputs": [],
   "source": []
  },
  {
   "cell_type": "code",
   "execution_count": null,
   "metadata": {
    "collapsed": false
   },
   "outputs": [],
   "source": []
  },
  {
   "cell_type": "code",
   "execution_count": null,
   "metadata": {
    "collapsed": true
   },
   "outputs": [],
   "source": []
  }
 ],
 "metadata": {
  "kernelspec": {
   "display_name": "Python 3",
   "language": "python",
   "name": "python3"
  },
  "language_info": {
   "codemirror_mode": {
    "name": "ipython",
    "version": 3
   },
   "file_extension": ".py",
   "mimetype": "text/x-python",
   "name": "python",
   "nbconvert_exporter": "python",
   "pygments_lexer": "ipython3",
   "version": "3.6.0"
  }
 },
 "nbformat": 4,
 "nbformat_minor": 2
}
