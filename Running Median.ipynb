{
 "cells": [
  {
   "cell_type": "code",
   "execution_count": 1,
   "metadata": {
    "collapsed": true
   },
   "outputs": [],
   "source": [
    "import numpy as np\n",
    "import pandas as pd\n",
    "import datetime\n",
    "pd.options.display.max_columns = 999\n",
    "pd.options.display.max_colwidth = 100\n",
    "\n",
    "import matplotlib.pyplot as plt\n",
    "%matplotlib inline\n",
    "\n",
    "import sys, os, gc, types\n",
    "import time\n",
    "from subprocess import check_output"
   ]
  },
  {
   "cell_type": "code",
   "execution_count": 2,
   "metadata": {
    "collapsed": false
   },
   "outputs": [
    {
     "name": "stdout",
     "output_type": "stream",
     "text": [
      "date_df.csv\n",
      "key_1.csv\n",
      "median_49.csv\n",
      "page_df.csv\n",
      "page_ohe.csv\n",
      "sample_submission_1.csv\n",
      "spider.txt\n",
      "train_1.csv\n",
      "\n"
     ]
    }
   ],
   "source": [
    "root_paths = [\n",
    "    \"/data/kaggle-wikipedia/data/\",\n",
    "    \"/Users/jiayou/Dropbox/JuanCode/Kaggle/Wikipedia/data/\",\n",
    "    \"/Users/jiayou/Dropbox/Documents/JuanCode/Kaggle/Wikipedia/data/\"\n",
    "]\n",
    "root = None\n",
    "for p in root_paths:\n",
    "    if os.path.exists(p):\n",
    "        root = p\n",
    "        break\n",
    "print(check_output([\"ls\", root]).decode(\"utf8\"))"
   ]
  },
  {
   "cell_type": "code",
   "execution_count": 3,
   "metadata": {
    "collapsed": true
   },
   "outputs": [],
   "source": [
    "train = pd.read_csv(root + 'train_1.csv')\n",
    "train.fillna(0, inplace = True)"
   ]
  },
  {
   "cell_type": "code",
   "execution_count": 4,
   "metadata": {
    "collapsed": true
   },
   "outputs": [],
   "source": [
    "down_sample = None\n",
    "if down_sample is not None:\n",
    "    train = train[train.index % down_sample == 0]"
   ]
  },
  {
   "cell_type": "code",
   "execution_count": 5,
   "metadata": {
    "collapsed": true
   },
   "outputs": [],
   "source": [
    "class Heap:\n",
    "    def __init__(self, isMinHeap):\n",
    "        self.isMinHeap = isMinHeap\n",
    "        self.data = []\n",
    "        self.location = {}\n",
    "\n",
    "    def isInOrder(self, a, b):\n",
    "        if self.isMinHeap:\n",
    "            return a <= b\n",
    "        else:\n",
    "            return a >= b\n",
    "\n",
    "    def add(self, id, value):\n",
    "        self.data.append((id, value))\n",
    "        self.location[id] = self.getSize() - 1\n",
    "        currentNode = self.data[-1]\n",
    "        self.siftUp(currentNode)\n",
    "\n",
    "    def remove(self, id):\n",
    "        last = self.data[-1]\n",
    "        if last[0] == id:\n",
    "            self.data.pop()\n",
    "            return\n",
    "        i = self.location[id]\n",
    "        del self.location[id]\n",
    "        last = self.data.pop()\n",
    "        self.data[i] = last\n",
    "        self.location[last[0]] = i\n",
    "        self.siftUp(last)\n",
    "        self.siftDown(last)\n",
    "\n",
    "    def getRoot(self):\n",
    "        if len(self.data) == 0:\n",
    "            return (-1, -sys.maxint)\n",
    "        return self.data[0]\n",
    "\n",
    "    def popRoot(self):\n",
    "        if len(self.data) == 0:\n",
    "            return None\n",
    "        first = self.data[0]\n",
    "        del self.location[first[0]]\n",
    "        last = self.data.pop()\n",
    "        if len(self.data) > 0:\n",
    "            self.data[0] = last\n",
    "            self.location[last[0]] = 0\n",
    "            self.siftDown(last)\n",
    "        return first\n",
    "\n",
    "\n",
    "    def getSize(self):\n",
    "        return len(self.data)\n",
    "\n",
    "    def siftUp(self, x):\n",
    "        id = x[0]\n",
    "        value = x[1]\n",
    "        i = self.location[x[0]]\n",
    "        while i >=1 and self.isInOrder(self.data[i][1], self.data[int((i - 1)/2)][1]):\n",
    "            parent_i = int((i - 1) / 2)\n",
    "            temp = self.data[parent_i]\n",
    "            self.data[parent_i] = self.data[i]\n",
    "            self.data[i] = temp\n",
    "            self.location[self.data[i][0]] = i\n",
    "            self.location[self.data[parent_i][0]] = parent_i\n",
    "            i = parent_i\n",
    "\n",
    "    def siftDown(self, x):\n",
    "        id = x[0]\n",
    "        value = x[1]\n",
    "        i = self.location[id]\n",
    "        while (2*i + 1) < self.getSize():\n",
    "            child_i = 2*i + 1\n",
    "            child_i_2 = 2*i + 2\n",
    "            if child_i_2 < self.getSize() and self.isInOrder(self.data[child_i_2][1], self.data[child_i][1]) :\n",
    "                child_i = child_i_2\n",
    "            if self.isInOrder(self.data[child_i][1], self.data[i][1]):\n",
    "                temp = self.data[child_i]\n",
    "                self.data[child_i] = self.data[i]\n",
    "                self.data[i] = temp\n",
    "                self.location[self.data[i][0]] = i\n",
    "                self.location[self.data[child_i][0]] = child_i\n",
    "            i = child_i"
   ]
  },
  {
   "cell_type": "code",
   "execution_count": 14,
   "metadata": {
    "collapsed": true
   },
   "outputs": [],
   "source": [
    "def medianSlidingWindow(nums, k, mask):\n",
    "    \"\"\"\n",
    "        mask - 550 bool array\n",
    "    \"\"\"\n",
    "    if nums is None or len(nums) == 0:\n",
    "        return []\n",
    "    n = len(nums)\n",
    "    result = []\n",
    "    maxHeap = Heap(False) #half smaller numbers \n",
    "    minHeap = Heap(True)\n",
    "\n",
    "\n",
    "    for i in range(0, n):\n",
    "        if mask[i]:\n",
    "            first = i - k\n",
    "            if first >= 0 and first in maxHeap.location:\n",
    "                maxHeap.remove(first)\n",
    "            elif first >= 0 and first in minHeap.location:\n",
    "                minHeap.remove(first)\n",
    "            if maxHeap.getSize() == 0 or nums[i] <= maxHeap.getRoot()[1]:\n",
    "                maxHeap.add(i, nums[i])\n",
    "            else:\n",
    "                minHeap.add(i, nums[i])\n",
    "            if maxHeap.getSize() - minHeap.getSize() >= 2:\n",
    "                top = maxHeap.popRoot()\n",
    "                minHeap.add(top[0], top[1])\n",
    "            elif maxHeap.getSize() - minHeap.getSize() <= -1:\n",
    "                top = minHeap.popRoot()\n",
    "                maxHeap.add(top[0], top[1])\n",
    "        if maxHeap.getSize() == 0:\n",
    "            result.append(0)\n",
    "        else:\n",
    "            result.append(maxHeap.getRoot()[1])\n",
    "\n",
    "    return result"
   ]
  },
  {
   "cell_type": "code",
   "execution_count": 18,
   "metadata": {
    "collapsed": false
   },
   "outputs": [],
   "source": [
    "median_df = train.copy()\n",
    "train_np = train.iloc[:, 1:].values\n",
    "median_np = median_df.iloc[:, 1:].values"
   ]
  },
  {
   "cell_type": "code",
   "execution_count": 19,
   "metadata": {
    "collapsed": true
   },
   "outputs": [],
   "source": [
    "window = 49"
   ]
  },
  {
   "cell_type": "code",
   "execution_count": 20,
   "metadata": {
    "collapsed": true
   },
   "outputs": [],
   "source": [
    "#mask\n",
    "mask_name = 'weekday'\n",
    "date_df = pd.read_csv(root + 'date_df.csv')\n",
    "mask = date_df.isweekday.values == True"
   ]
  },
  {
   "cell_type": "code",
   "execution_count": 21,
   "metadata": {
    "collapsed": false
   },
   "outputs": [
    {
     "data": {
      "text/plain": [
       "array([ True,  True,  True, False, False,  True,  True,  True,  True,\n",
       "        True, False, False,  True,  True], dtype=bool)"
      ]
     },
     "execution_count": 21,
     "metadata": {},
     "output_type": "execute_result"
    }
   ],
   "source": [
    "mask[:14]"
   ]
  },
  {
   "cell_type": "code",
   "execution_count": 22,
   "metadata": {
    "collapsed": false,
    "scrolled": true
   },
   "outputs": [
    {
     "name": "stdout",
     "output_type": "stream",
     "text": [
      "row 0 is done\n",
      "row 1000 is done\n",
      "row 2000 is done\n",
      "row 3000 is done\n",
      "row 4000 is done\n",
      "row 5000 is done\n",
      "row 6000 is done\n",
      "row 7000 is done\n",
      "row 8000 is done\n",
      "row 9000 is done\n",
      "row 10000 is done\n",
      "row 11000 is done\n",
      "row 12000 is done\n",
      "row 13000 is done\n",
      "row 14000 is done\n",
      "row 15000 is done\n",
      "row 16000 is done\n",
      "row 17000 is done\n",
      "row 18000 is done\n",
      "row 19000 is done\n",
      "row 20000 is done\n",
      "row 21000 is done\n",
      "row 22000 is done\n",
      "row 23000 is done\n",
      "row 24000 is done\n",
      "row 25000 is done\n",
      "row 26000 is done\n",
      "row 27000 is done\n",
      "row 28000 is done\n",
      "row 29000 is done\n",
      "row 30000 is done\n",
      "row 31000 is done\n",
      "row 32000 is done\n",
      "row 33000 is done\n",
      "row 34000 is done\n",
      "row 35000 is done\n",
      "row 36000 is done\n",
      "row 37000 is done\n",
      "row 38000 is done\n",
      "row 39000 is done\n",
      "row 40000 is done\n",
      "row 41000 is done\n",
      "row 42000 is done\n",
      "row 43000 is done\n",
      "row 44000 is done\n",
      "row 45000 is done\n",
      "row 46000 is done\n",
      "row 47000 is done\n",
      "row 48000 is done\n",
      "row 49000 is done\n",
      "row 50000 is done\n",
      "row 51000 is done\n",
      "row 52000 is done\n",
      "row 53000 is done\n",
      "row 54000 is done\n",
      "row 55000 is done\n",
      "row 56000 is done\n",
      "row 57000 is done\n",
      "row 58000 is done\n",
      "row 59000 is done\n",
      "row 60000 is done\n",
      "row 61000 is done\n",
      "row 62000 is done\n",
      "row 63000 is done\n",
      "row 64000 is done\n",
      "row 65000 is done\n",
      "row 66000 is done\n",
      "row 67000 is done\n",
      "row 68000 is done\n",
      "row 69000 is done\n",
      "row 70000 is done\n",
      "row 71000 is done\n",
      "row 72000 is done\n",
      "row 73000 is done\n",
      "row 74000 is done\n",
      "row 75000 is done\n",
      "row 76000 is done\n",
      "row 77000 is done\n",
      "row 78000 is done\n",
      "row 79000 is done\n",
      "row 80000 is done\n",
      "row 81000 is done\n",
      "row 82000 is done\n",
      "row 83000 is done\n",
      "row 84000 is done\n",
      "row 85000 is done\n",
      "row 86000 is done\n",
      "row 87000 is done\n",
      "row 88000 is done\n",
      "row 89000 is done\n",
      "row 90000 is done\n",
      "row 91000 is done\n",
      "row 92000 is done\n",
      "row 93000 is done\n",
      "row 94000 is done\n",
      "row 95000 is done\n",
      "row 96000 is done\n",
      "row 97000 is done\n",
      "row 98000 is done\n",
      "row 99000 is done\n",
      "row 100000 is done\n",
      "row 101000 is done\n",
      "row 102000 is done\n",
      "row 103000 is done\n",
      "row 104000 is done\n",
      "row 105000 is done\n",
      "row 106000 is done\n",
      "row 107000 is done\n",
      "row 108000 is done\n",
      "row 109000 is done\n",
      "row 110000 is done\n",
      "row 111000 is done\n",
      "row 112000 is done\n",
      "row 113000 is done\n",
      "row 114000 is done\n",
      "row 115000 is done\n",
      "row 116000 is done\n",
      "row 117000 is done\n",
      "row 118000 is done\n",
      "row 119000 is done\n",
      "row 120000 is done\n",
      "row 121000 is done\n",
      "row 122000 is done\n",
      "row 123000 is done\n",
      "row 124000 is done\n",
      "row 125000 is done\n",
      "row 126000 is done\n",
      "row 127000 is done\n",
      "row 128000 is done\n",
      "row 129000 is done\n",
      "row 130000 is done\n",
      "row 131000 is done\n",
      "row 132000 is done\n",
      "row 133000 is done\n",
      "row 134000 is done\n",
      "row 135000 is done\n",
      "row 136000 is done\n",
      "row 137000 is done\n",
      "row 138000 is done\n",
      "row 139000 is done\n",
      "row 140000 is done\n",
      "row 141000 is done\n",
      "row 142000 is done\n",
      "row 143000 is done\n",
      "row 144000 is done\n",
      "row 145000 is done\n"
     ]
    }
   ],
   "source": [
    "for i in range(len(median_df)):\n",
    "# for i in range(1000):\n",
    "    nums = train_np[i, :]\n",
    "    cur_median = medianSlidingWindow(nums, window, mask)\n",
    "    median_np[i, :] = cur_median\n",
    "    if i % 1000 == 0:\n",
    "        print('row {} is done'.format(i))\n",
    "median_df.iloc[:, 1:] = median_np                            "
   ]
  },
  {
   "cell_type": "code",
   "execution_count": null,
   "metadata": {
    "collapsed": false
   },
   "outputs": [],
   "source": []
  },
  {
   "cell_type": "code",
   "execution_count": 23,
   "metadata": {
    "collapsed": false
   },
   "outputs": [],
   "source": [
    "median_df.to_csv(root+'median_{}.csv'.format(mask_name), index = None)"
   ]
  },
  {
   "cell_type": "code",
   "execution_count": null,
   "metadata": {
    "collapsed": false
   },
   "outputs": [],
   "source": []
  },
  {
   "cell_type": "code",
   "execution_count": null,
   "metadata": {
    "collapsed": false
   },
   "outputs": [],
   "source": []
  },
  {
   "cell_type": "code",
   "execution_count": null,
   "metadata": {
    "collapsed": false
   },
   "outputs": [],
   "source": []
  },
  {
   "cell_type": "code",
   "execution_count": null,
   "metadata": {
    "collapsed": false
   },
   "outputs": [],
   "source": []
  },
  {
   "cell_type": "code",
   "execution_count": null,
   "metadata": {
    "collapsed": true
   },
   "outputs": [],
   "source": []
  },
  {
   "cell_type": "code",
   "execution_count": null,
   "metadata": {
    "collapsed": false
   },
   "outputs": [],
   "source": []
  },
  {
   "cell_type": "code",
   "execution_count": null,
   "metadata": {
    "collapsed": true
   },
   "outputs": [],
   "source": []
  }
 ],
 "metadata": {
  "kernelspec": {
   "display_name": "Python 3",
   "language": "python",
   "name": "python3"
  },
  "language_info": {
   "codemirror_mode": {
    "name": "ipython",
    "version": 3
   },
   "file_extension": ".py",
   "mimetype": "text/x-python",
   "name": "python",
   "nbconvert_exporter": "python",
   "pygments_lexer": "ipython3",
   "version": "3.6.0"
  }
 },
 "nbformat": 4,
 "nbformat_minor": 2
}
