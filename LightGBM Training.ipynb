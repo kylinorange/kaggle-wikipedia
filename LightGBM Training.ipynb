{
 "cells": [
  {
   "cell_type": "code",
   "execution_count": 6,
   "metadata": {
    "collapsed": true
   },
   "outputs": [],
   "source": [
    "import numpy as np\n",
    "import pandas as pd\n",
    "import datetime\n",
    "pd.options.display.max_columns = 999\n",
    "pd.options.display.max_colwidth = 100\n",
    "\n",
    "import matplotlib.pyplot as plt\n",
    "%matplotlib inline\n",
    "\n",
    "import lightgbm as lgb\n",
    "\n",
    "import sys, os, gc, types\n",
    "import time\n",
    "from subprocess import check_output\n",
    "\n",
    "import sklearn\n",
    "from sklearn.model_selection import train_test_split"
   ]
  },
  {
   "cell_type": "code",
   "execution_count": null,
   "metadata": {
    "collapsed": false
   },
   "outputs": [
    {
     "name": "stdout",
     "output_type": "stream",
     "text": [
      "date_df.csv\n",
      "key_1.csv\n",
      "median_49.csv\n",
      "page_df.csv\n",
      "page_ohe.csv\n",
      "sample_submission_1.csv\n",
      "spider.txt\n",
      "train_1.csv\n",
      "\n"
     ]
    }
   ],
   "source": [
    "root_paths = [\n",
    "    \"/data/kaggle-wikipedia/data/\",\n",
    "    \"/Users/jiayou/Dropbox/JuanCode/Kaggle/Wikipedia/data/\",\n",
    "    \"/Users/jiayou/Dropbox/Documents/JuanCode/Kaggle/Wikipedia/data/\"\n",
    "]\n",
    "root = None\n",
    "for p in root_paths:\n",
    "    if os.path.exists(p):\n",
    "        root = p\n",
    "        break\n",
    "print(check_output([\"ls\", root]).decode(\"utf8\"))"
   ]
  },
  {
   "cell_type": "code",
   "execution_count": null,
   "metadata": {
    "collapsed": true
   },
   "outputs": [],
   "source": [
    "train = pd.read_csv(root + 'train_1.csv')\n",
    "train.fillna(0, inplace = True)\n",
    "date_df = pd.read_csv(root + 'date_df.csv')\n",
    "page_df = pd.read_csv(root + 'page_ohe.csv')\n",
    "median_49 = pd.read_csv(root + 'median_49.csv')"
   ]
  },
  {
   "cell_type": "code",
   "execution_count": null,
   "metadata": {
    "collapsed": true
   },
   "outputs": [],
   "source": [
    "train_df = train.melt(id_vars=['Page'], var_name='date')"
   ]
  },
  {
   "cell_type": "markdown",
   "metadata": {},
   "source": [
    "# construct ABT"
   ]
  },
  {
   "cell_type": "code",
   "execution_count": null,
   "metadata": {
    "collapsed": true
   },
   "outputs": [],
   "source": [
    "train_df = train_df.merge(page_df, how='left', on='Page')\n",
    "train_df = train_df.merge(date_df.drop('date_str', axis = 1), how='left', on='date')"
   ]
  },
  {
   "cell_type": "code",
   "execution_count": null,
   "metadata": {
    "collapsed": false
   },
   "outputs": [],
   "source": [
    "val_days = 62\n",
    "for i in range(-val_days, 0):\n",
    "    median_49.iloc[:, i] = median_49.iloc[:, -val_days-1].reshape((len(median_49),1))"
   ]
  },
  {
   "cell_type": "code",
   "execution_count": null,
   "metadata": {
    "collapsed": false
   },
   "outputs": [],
   "source": [
    "median_df = median_49.melt(id_vars=['Page'], var_name='date')\n",
    "median_df.rename(columns={'value':'median'}, inplace = True)\n",
    "train_df = train_df.merge(median_df, how='left', on=['Page','date'])"
   ]
  },
  {
   "cell_type": "code",
   "execution_count": null,
   "metadata": {
    "collapsed": false
   },
   "outputs": [],
   "source": [
    "train_df['isval'] = (train_df.dayofyear > 366 - val_days) & (train_df.year == 2016)"
   ]
  },
  {
   "cell_type": "code",
   "execution_count": null,
   "metadata": {
    "collapsed": false
   },
   "outputs": [],
   "source": [
    "train_df.head()"
   ]
  },
  {
   "cell_type": "code",
   "execution_count": null,
   "metadata": {
    "collapsed": false
   },
   "outputs": [],
   "source": [
    "del median_df, page_df, date_df, train\n",
    "gc.collect()"
   ]
  },
  {
   "cell_type": "markdown",
   "metadata": {},
   "source": [
    "# Preparing data and hyperparams"
   ]
  },
  {
   "cell_type": "code",
   "execution_count": null,
   "metadata": {
    "collapsed": false
   },
   "outputs": [],
   "source": [
    "name = 'v0-r0'\n",
    "down_sample = None\n",
    "num_searches = 1\n",
    "boosting_rounds = 10000\n",
    "stopping_rounds = 10"
   ]
  },
  {
   "cell_type": "code",
   "execution_count": null,
   "metadata": {
    "collapsed": true
   },
   "outputs": [],
   "source": [
    "params = {\n",
    "    'task': 'train',\n",
    "    'boosting_type': 'gbdt',\n",
    "    'objective': 'regression',\n",
    "    'metric': {'l1'},\n",
    "    'num_leaves': 128,\n",
    "#     'min_sum_hessian_in_leaf': 20,\n",
    "    'max_depth': 12,\n",
    "    'learning_rate': 0.05,\n",
    "    'feature_fraction': 0.8,\n",
    "    'bagging_fraction': 0.85,\n",
    "    'bagging_freq': 3,\n",
    "    'verbose': 1,\n",
    "    'device' : 'gpu'\n",
    "}"
   ]
  },
  {
   "cell_type": "code",
   "execution_count": null,
   "metadata": {
    "collapsed": false
   },
   "outputs": [],
   "source": [
    "train = train_df[train_df.isval == False]\n",
    "val = train_df[train_df.isval == True]"
   ]
  },
  {
   "cell_type": "code",
   "execution_count": null,
   "metadata": {
    "collapsed": false
   },
   "outputs": [],
   "source": [
    "lgb_train = lgb.Dataset(train.drop(['value', 'isval', 'Page', 'date'], axis = 1), train.value)\n",
    "lgb_eval = lgb.Dataset(val.drop(['value', 'isval', 'Page', 'date'], axis = 1), val.value, reference=lgb_train)\n",
    "\n",
    "gc.collect()"
   ]
  },
  {
   "cell_type": "code",
   "execution_count": null,
   "metadata": {
    "collapsed": false
   },
   "outputs": [],
   "source": [
    "results = []\n",
    "for i in range(num_searches):\n",
    "    print('Start LightGBM training...')\n",
    "    # train\n",
    "    gbm = lgb.train(params,\n",
    "                    lgb_train,\n",
    "                    num_boost_round=boosting_rounds,\n",
    "                    valid_sets=[lgb_train, lgb_eval],\n",
    "#                   categorical_feature=[],\n",
    "                    early_stopping_rounds=stopping_rounds)\n",
    "\n",
    "    print('Save model...')\n",
    "    # save model to file\n",
    "    gbm.save_model('model.{}.txt'.format(name))\n",
    "\n",
    "    print('Plot feature importances...')\n",
    "    ax = lgb.plot_importance(gbm, max_num_features=10, importance_type='gain')\n",
    "    plt.show()"
   ]
  },
  {
   "cell_type": "code",
   "execution_count": null,
   "metadata": {
    "collapsed": false
   },
   "outputs": [],
   "source": []
  },
  {
   "cell_type": "code",
   "execution_count": null,
   "metadata": {
    "collapsed": true
   },
   "outputs": [],
   "source": []
  }
 ],
 "metadata": {
  "kernelspec": {
   "display_name": "Python 3",
   "language": "python",
   "name": "python3"
  },
  "language_info": {
   "codemirror_mode": {
    "name": "ipython",
    "version": 3
   },
   "file_extension": ".py",
   "mimetype": "text/x-python",
   "name": "python",
   "nbconvert_exporter": "python",
   "pygments_lexer": "ipython3",
   "version": "3.6.0"
  }
 },
 "nbformat": 4,
 "nbformat_minor": 2
}
