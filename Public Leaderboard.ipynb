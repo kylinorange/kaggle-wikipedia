{
 "cells": [
  {
   "cell_type": "code",
   "execution_count": 1,
   "metadata": {
    "collapsed": true
   },
   "outputs": [],
   "source": [
    "import numpy as np\n",
    "import pandas as pd\n",
    "import datetime\n",
    "pd.options.display.max_columns = 999\n",
    "pd.options.display.max_colwidth = 100\n",
    "\n",
    "import matplotlib.pyplot as plt\n",
    "%matplotlib inline\n",
    "\n",
    "import sys, os, gc, types\n",
    "import time\n",
    "from subprocess import check_output"
   ]
  },
  {
   "cell_type": "code",
   "execution_count": 2,
   "metadata": {
    "collapsed": false
   },
   "outputs": [
    {
     "name": "stdout",
     "output_type": "stream",
     "text": [
      "EDA data2.ipynb\n",
      "EDA.ipynb\n",
      "Key Modify.ipynb\n",
      "LightGBM Sub5 Classifier.ipynb\n",
      "LightGBM Training.ipynb\n",
      "Public Leaderboard.ipynb\n",
      "README.md\n",
      "RNN Overfit.ipynb\n",
      "RNN Submission.ipynb\n",
      "RNN.ipynb\n",
      "Running Median.ipynb\n",
      "data\n",
      "data2\n",
      "tf-data\n",
      "\n"
     ]
    }
   ],
   "source": [
    "root_paths = [\n",
    "    \"/data/kaggle-wikipedia/\",\n",
    "    \"/Users/jiayou/Dropbox/JuanCode/Kaggle/Wikipedia/\",\n",
    "    \"/Users/jiayou/Dropbox/Documents/JuanCode/Kaggle/Wikipedia/\"\n",
    "]\n",
    "root = None\n",
    "for p in root_paths:\n",
    "    if os.path.exists(p):\n",
    "        root = p\n",
    "        break\n",
    "print(check_output([\"ls\", root]).decode(\"utf8\"))"
   ]
  },
  {
   "cell_type": "code",
   "execution_count": 3,
   "metadata": {
    "collapsed": true
   },
   "outputs": [],
   "source": [
    "key1 = pd.read_pickle(root + 'data/key_1_modified.pkl')"
   ]
  },
  {
   "cell_type": "code",
   "execution_count": 4,
   "metadata": {
    "collapsed": true
   },
   "outputs": [],
   "source": [
    "start_date = '2017-01-01'\n",
    "period = 60\n",
    "date_range = pd.date_range(start_date, periods=period, freq='D')\n",
    "date_range = date_range.strftime('%Y-%m-%d').tolist()"
   ]
  },
  {
   "cell_type": "code",
   "execution_count": 5,
   "metadata": {
    "collapsed": false
   },
   "outputs": [],
   "source": [
    "train2 = pd.read_csv(root + 'data2/train_2.csv')\n",
    "train2 = train2.loc[:,['Page'] + date_range]\n",
    "train2.sort_values(by='Page', inplace=True)\n",
    "train2.reset_index(inplace=True, drop=True)\n",
    "train2 = train2.melt(id_vars=['Page'], var_name='date', value_name='y_true')"
   ]
  },
  {
   "cell_type": "code",
   "execution_count": 13,
   "metadata": {
    "collapsed": false
   },
   "outputs": [],
   "source": [
    "name = 'gb5-r1'\n",
    "sub5_name = 'sub5-r1'"
   ]
  },
  {
   "cell_type": "code",
   "execution_count": null,
   "metadata": {
    "collapsed": true
   },
   "outputs": [],
   "source": []
  },
  {
   "cell_type": "code",
   "execution_count": null,
   "metadata": {
    "collapsed": true
   },
   "outputs": [],
   "source": [
    "def get_submission(name):\n",
    "    submission = pd.read_csv(root + 'data/test_prediction.{}.csv'.format(name))\n",
    "    submission = submission.merge(key1, how='left', on='Id')\n",
    "    submission.rename(columns={\"Visits\": \"y_pred\"}, inplace=True)\n",
    "    return submission\n",
    "\n",
    "def get_submission_with_sub5(name, sub5_name):\n",
    "    submission = pd.read_csv(root + 'data/test_prediction.{}.csv'.format(name))\n",
    "    sub5 = pd.read_csv(root + 'data/sub5_prediction.{}.csv'.format(sub5_name))\n",
    "    submission.Visits = np.where(submission.Visits.values <= 5, sub5.Visits.values, submission.Visits.values)\n",
    "    \n",
    "    submission = submission.merge(key1, how='left', on='Id')\n",
    "    submission.rename(columns={\"Visits\": \"y_pred\"}, inplace=True)\n",
    "    return submission"
   ]
  },
  {
   "cell_type": "code",
   "execution_count": 14,
   "metadata": {
    "collapsed": false
   },
   "outputs": [],
   "source": [
    "submission = get_submission(name)\n",
    "# submission = get_submission_with_sub5(name, sub5_name)"
   ]
  },
  {
   "cell_type": "code",
   "execution_count": 15,
   "metadata": {
    "collapsed": false
   },
   "outputs": [],
   "source": [
    "result = train2.merge(submission, on=['Page', 'date'], how='left')"
   ]
  },
  {
   "cell_type": "code",
   "execution_count": 16,
   "metadata": {
    "collapsed": false
   },
   "outputs": [],
   "source": [
    "result.dropna(axis=0, how='any', inplace=True)"
   ]
  },
  {
   "cell_type": "code",
   "execution_count": 17,
   "metadata": {
    "collapsed": false
   },
   "outputs": [],
   "source": [
    "def SMAPE(y_pred, y_true):\n",
    "    loss = np.mean(np.abs(y_true - y_pred) / np.maximum(1e-6, (np.abs(y_true) + np.abs(y_pred)))) * 200\n",
    "    return loss"
   ]
  },
  {
   "cell_type": "code",
   "execution_count": 18,
   "metadata": {
    "collapsed": false
   },
   "outputs": [],
   "source": [
    "score = SMAPE(result.y_pred.values, result.y_true.values)"
   ]
  },
  {
   "cell_type": "code",
   "execution_count": 19,
   "metadata": {
    "collapsed": false
   },
   "outputs": [
    {
     "data": {
      "text/plain": [
       "45.16190137271969"
      ]
     },
     "execution_count": 19,
     "metadata": {},
     "output_type": "execute_result"
    }
   ],
   "source": [
    "score"
   ]
  },
  {
   "cell_type": "code",
   "execution_count": null,
   "metadata": {
    "collapsed": false
   },
   "outputs": [],
   "source": []
  }
 ],
 "metadata": {
  "kernelspec": {
   "display_name": "Python 3",
   "language": "python",
   "name": "python3"
  },
  "language_info": {
   "codemirror_mode": {
    "name": "ipython",
    "version": 3
   },
   "file_extension": ".py",
   "mimetype": "text/x-python",
   "name": "python",
   "nbconvert_exporter": "python",
   "pygments_lexer": "ipython3",
   "version": "3.6.0"
  }
 },
 "nbformat": 4,
 "nbformat_minor": 2
}
